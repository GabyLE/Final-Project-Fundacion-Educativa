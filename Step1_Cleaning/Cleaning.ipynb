{
 "cells": [
  {
   "cell_type": "code",
   "execution_count": 2,
   "id": "5d8175db",
   "metadata": {},
   "outputs": [],
   "source": [
    "# import pandas library\n",
    "import pandas as pd\n",
    "import datetime"
   ]
  },
  {
   "cell_type": "markdown",
   "id": "3f9b2314",
   "metadata": {},
   "source": [
    "## First file: `inscripcion_conferencia.csv`"
   ]
  },
  {
   "cell_type": "code",
   "execution_count": 3,
   "id": "1b1eca4d",
   "metadata": {},
   "outputs": [],
   "source": [
    "# add first data file: inscripcion_conferencia.csv\n",
    "inscripcion_conferencia = pd.read_csv(\"../BasesFinales/inscripcion_conferencia.csv\", sep = ';', encoding='latin-1')"
   ]
  },
  {
   "cell_type": "code",
   "execution_count": 4,
   "id": "e76e7ac2",
   "metadata": {},
   "outputs": [
    {
     "data": {
      "text/plain": [
       "(2199, 6)"
      ]
     },
     "execution_count": 4,
     "metadata": {},
     "output_type": "execute_result"
    }
   ],
   "source": [
    "# (rows, columns)\n",
    "inscripcion_conferencia.shape"
   ]
  },
  {
   "cell_type": "code",
   "execution_count": 5,
   "id": "1cc31c3c",
   "metadata": {},
   "outputs": [
    {
     "name": "stdout",
     "output_type": "stream",
     "text": [
      "<class 'pandas.core.frame.DataFrame'>\n",
      "RangeIndex: 2199 entries, 0 to 2198\n",
      "Data columns (total 6 columns):\n",
      " #   Column           Non-Null Count  Dtype \n",
      "---  ------           --------------  ----- \n",
      " 0   IDEstudiante     2199 non-null   int64 \n",
      " 1   Nombre           2199 non-null   object\n",
      " 2   FechaNacimiento  2199 non-null   object\n",
      " 3   estudiante       2199 non-null   object\n",
      " 4   Genero_completo  2199 non-null   object\n",
      " 5   Ingresos         2199 non-null   int64 \n",
      "dtypes: int64(2), object(4)\n",
      "memory usage: 103.2+ KB\n"
     ]
    }
   ],
   "source": [
    "inscripcion_conferencia.info()"
   ]
  },
  {
   "cell_type": "code",
   "execution_count": 6,
   "id": "77d7f356",
   "metadata": {},
   "outputs": [
    {
     "data": {
      "text/html": [
       "<div>\n",
       "<style scoped>\n",
       "    .dataframe tbody tr th:only-of-type {\n",
       "        vertical-align: middle;\n",
       "    }\n",
       "\n",
       "    .dataframe tbody tr th {\n",
       "        vertical-align: top;\n",
       "    }\n",
       "\n",
       "    .dataframe thead th {\n",
       "        text-align: right;\n",
       "    }\n",
       "</style>\n",
       "<table border=\"1\" class=\"dataframe\">\n",
       "  <thead>\n",
       "    <tr style=\"text-align: right;\">\n",
       "      <th></th>\n",
       "      <th>IDEstudiante</th>\n",
       "      <th>Nombre</th>\n",
       "      <th>FechaNacimiento</th>\n",
       "      <th>estudiante</th>\n",
       "      <th>Genero_completo</th>\n",
       "      <th>Ingresos</th>\n",
       "    </tr>\n",
       "  </thead>\n",
       "  <tbody>\n",
       "    <tr>\n",
       "      <th>0</th>\n",
       "      <td>1</td>\n",
       "      <td>Marcos Morales Rubiano</td>\n",
       "      <td>25/08/2009</td>\n",
       "      <td>S</td>\n",
       "      <td>H</td>\n",
       "      <td>534847</td>\n",
       "    </tr>\n",
       "    <tr>\n",
       "      <th>1</th>\n",
       "      <td>2</td>\n",
       "      <td>Maria Rubiano Delgado</td>\n",
       "      <td>29/05/2011</td>\n",
       "      <td>N</td>\n",
       "      <td>M</td>\n",
       "      <td>1113050</td>\n",
       "    </tr>\n",
       "    <tr>\n",
       "      <th>2</th>\n",
       "      <td>3</td>\n",
       "      <td>Paula Contreras Delgado</td>\n",
       "      <td>8/06/1998</td>\n",
       "      <td>N</td>\n",
       "      <td>M</td>\n",
       "      <td>1249186</td>\n",
       "    </tr>\n",
       "    <tr>\n",
       "      <th>3</th>\n",
       "      <td>4</td>\n",
       "      <td>Carlos Medina Rubiano</td>\n",
       "      <td>11/07/1997</td>\n",
       "      <td>S</td>\n",
       "      <td>H</td>\n",
       "      <td>915811</td>\n",
       "    </tr>\n",
       "    <tr>\n",
       "      <th>4</th>\n",
       "      <td>5</td>\n",
       "      <td>Pablo Salazar Delgado</td>\n",
       "      <td>18/10/2005</td>\n",
       "      <td>S</td>\n",
       "      <td>H</td>\n",
       "      <td>1175867</td>\n",
       "    </tr>\n",
       "  </tbody>\n",
       "</table>\n",
       "</div>"
      ],
      "text/plain": [
       "   IDEstudiante                   Nombre FechaNacimiento estudiante  \\\n",
       "0             1   Marcos Morales Rubiano      25/08/2009          S   \n",
       "1             2    Maria Rubiano Delgado      29/05/2011          N   \n",
       "2             3  Paula Contreras Delgado       8/06/1998          N   \n",
       "3             4    Carlos Medina Rubiano      11/07/1997          S   \n",
       "4             5    Pablo Salazar Delgado      18/10/2005          S   \n",
       "\n",
       "  Genero_completo  Ingresos  \n",
       "0               H    534847  \n",
       "1               M   1113050  \n",
       "2               M   1249186  \n",
       "3               H    915811  \n",
       "4               H   1175867  "
      ]
     },
     "execution_count": 6,
     "metadata": {},
     "output_type": "execute_result"
    }
   ],
   "source": [
    "inscripcion_conferencia.head()"
   ]
  },
  {
   "cell_type": "code",
   "execution_count": 7,
   "id": "8ddd5247",
   "metadata": {},
   "outputs": [
    {
     "name": "stdout",
     "output_type": "stream",
     "text": [
      "<class 'pandas.core.frame.DataFrame'>\n",
      "RangeIndex: 2199 entries, 0 to 2198\n",
      "Data columns (total 6 columns):\n",
      " #   Column           Non-Null Count  Dtype         \n",
      "---  ------           --------------  -----         \n",
      " 0   IDEstudiante     2199 non-null   int64         \n",
      " 1   Nombre           2199 non-null   object        \n",
      " 2   FechaNacimiento  2199 non-null   datetime64[ns]\n",
      " 3   estudiante       2199 non-null   object        \n",
      " 4   Genero_completo  2199 non-null   object        \n",
      " 5   Ingresos         2199 non-null   int64         \n",
      "dtypes: datetime64[ns](1), int64(2), object(3)\n",
      "memory usage: 103.2+ KB\n"
     ]
    }
   ],
   "source": [
    "# format date type\n",
    "inscripcion_conferencia['FechaNacimiento'] = pd.to_datetime(inscripcion_conferencia['FechaNacimiento'], dayfirst = True)\n",
    "inscripcion_conferencia.info()"
   ]
  },
  {
   "cell_type": "code",
   "execution_count": 8,
   "id": "b47d2bfb",
   "metadata": {},
   "outputs": [
    {
     "data": {
      "text/plain": [
       "2199"
      ]
     },
     "execution_count": 8,
     "metadata": {},
     "output_type": "execute_result"
    }
   ],
   "source": [
    "# verify number of unique values\n",
    "inscripcion_conferencia['Nombre'].nunique(dropna=False)"
   ]
  },
  {
   "cell_type": "code",
   "execution_count": 9,
   "id": "f91387d8",
   "metadata": {},
   "outputs": [
    {
     "data": {
      "text/plain": [
       "array(['S', 'N'], dtype=object)"
      ]
     },
     "execution_count": 9,
     "metadata": {},
     "output_type": "execute_result"
    }
   ],
   "source": [
    "# verify unique values from column estudiante\n",
    "inscripcion_conferencia['estudiante'].unique()"
   ]
  },
  {
   "cell_type": "markdown",
   "id": "75226816",
   "metadata": {},
   "source": [
    "The dictionary doesn't mention this column. It is asume that 'S' means 'Sí'(Yes) and 'N' to 'No', with respect to the state of the students."
   ]
  },
  {
   "cell_type": "code",
   "execution_count": 10,
   "id": "9d04795b",
   "metadata": {},
   "outputs": [
    {
     "data": {
      "text/plain": [
       "array(['H', 'M'], dtype=object)"
      ]
     },
     "execution_count": 10,
     "metadata": {},
     "output_type": "execute_result"
    }
   ],
   "source": [
    "# verify unique values from column Genero_completo\n",
    "inscripcion_conferencia['Genero_completo'].unique()"
   ]
  },
  {
   "cell_type": "code",
   "execution_count": 11,
   "id": "fc4ee289",
   "metadata": {},
   "outputs": [
    {
     "data": {
      "text/plain": [
       "2196"
      ]
     },
     "execution_count": 11,
     "metadata": {},
     "output_type": "execute_result"
    }
   ],
   "source": [
    "# verify unique values from column Ingresos\n",
    "inscripcion_conferencia['Ingresos'].nunique(dropna=False)"
   ]
  },
  {
   "cell_type": "code",
   "execution_count": 12,
   "id": "efceb9b7",
   "metadata": {},
   "outputs": [
    {
     "data": {
      "text/plain": [
       "Ingresos\n",
       "1275706    2\n",
       "994619     2\n",
       "1340758    2\n",
       "534847     1\n",
       "910009     1\n",
       "Name: count, dtype: int64"
      ]
     },
     "execution_count": 12,
     "metadata": {},
     "output_type": "execute_result"
    }
   ],
   "source": [
    "# There are three values repeated. Check which ones, if there are numbers or what?\n",
    "inscripcion_conferencia['Ingresos'].value_counts(dropna=False, ascending=False).head()"
   ]
  },
  {
   "cell_type": "markdown",
   "id": "e8b151ec",
   "metadata": {},
   "source": [
    "The file `inscripcion_conferencia.csv` doesn't present null values. Next, it will be check if there are any weird values."
   ]
  },
  {
   "cell_type": "code",
   "execution_count": 13,
   "id": "425fe6db",
   "metadata": {},
   "outputs": [
    {
     "data": {
      "text/html": [
       "<div>\n",
       "<style scoped>\n",
       "    .dataframe tbody tr th:only-of-type {\n",
       "        vertical-align: middle;\n",
       "    }\n",
       "\n",
       "    .dataframe tbody tr th {\n",
       "        vertical-align: top;\n",
       "    }\n",
       "\n",
       "    .dataframe thead th {\n",
       "        text-align: right;\n",
       "    }\n",
       "</style>\n",
       "<table border=\"1\" class=\"dataframe\">\n",
       "  <thead>\n",
       "    <tr style=\"text-align: right;\">\n",
       "      <th></th>\n",
       "      <th>IDEstudiante</th>\n",
       "      <th>Nombre</th>\n",
       "      <th>FechaNacimiento</th>\n",
       "      <th>estudiante</th>\n",
       "      <th>Genero_completo</th>\n",
       "      <th>Ingresos</th>\n",
       "      <th>age</th>\n",
       "    </tr>\n",
       "  </thead>\n",
       "  <tbody>\n",
       "    <tr>\n",
       "      <th>0</th>\n",
       "      <td>1</td>\n",
       "      <td>Marcos Morales Rubiano</td>\n",
       "      <td>2009-08-25</td>\n",
       "      <td>S</td>\n",
       "      <td>H</td>\n",
       "      <td>534847</td>\n",
       "      <td>15</td>\n",
       "    </tr>\n",
       "    <tr>\n",
       "      <th>1</th>\n",
       "      <td>2</td>\n",
       "      <td>Maria Rubiano Delgado</td>\n",
       "      <td>2011-05-29</td>\n",
       "      <td>N</td>\n",
       "      <td>M</td>\n",
       "      <td>1113050</td>\n",
       "      <td>13</td>\n",
       "    </tr>\n",
       "    <tr>\n",
       "      <th>2</th>\n",
       "      <td>3</td>\n",
       "      <td>Paula Contreras Delgado</td>\n",
       "      <td>1998-06-08</td>\n",
       "      <td>N</td>\n",
       "      <td>M</td>\n",
       "      <td>1249186</td>\n",
       "      <td>26</td>\n",
       "    </tr>\n",
       "    <tr>\n",
       "      <th>3</th>\n",
       "      <td>4</td>\n",
       "      <td>Carlos Medina Rubiano</td>\n",
       "      <td>1997-07-11</td>\n",
       "      <td>S</td>\n",
       "      <td>H</td>\n",
       "      <td>915811</td>\n",
       "      <td>27</td>\n",
       "    </tr>\n",
       "    <tr>\n",
       "      <th>4</th>\n",
       "      <td>5</td>\n",
       "      <td>Pablo Salazar Delgado</td>\n",
       "      <td>2005-10-18</td>\n",
       "      <td>S</td>\n",
       "      <td>H</td>\n",
       "      <td>1175867</td>\n",
       "      <td>19</td>\n",
       "    </tr>\n",
       "  </tbody>\n",
       "</table>\n",
       "</div>"
      ],
      "text/plain": [
       "   IDEstudiante                   Nombre FechaNacimiento estudiante  \\\n",
       "0             1   Marcos Morales Rubiano      2009-08-25          S   \n",
       "1             2    Maria Rubiano Delgado      2011-05-29          N   \n",
       "2             3  Paula Contreras Delgado      1998-06-08          N   \n",
       "3             4    Carlos Medina Rubiano      1997-07-11          S   \n",
       "4             5    Pablo Salazar Delgado      2005-10-18          S   \n",
       "\n",
       "  Genero_completo  Ingresos  age  \n",
       "0               H    534847   15  \n",
       "1               M   1113050   13  \n",
       "2               M   1249186   26  \n",
       "3               H    915811   27  \n",
       "4               H   1175867   19  "
      ]
     },
     "execution_count": 13,
     "metadata": {},
     "output_type": "execute_result"
    }
   ],
   "source": [
    "# calculate age of the students to current year 2024.\n",
    "current_year = 2024\n",
    "inscripcion_conferencia['age'] = current_year - inscripcion_conferencia['FechaNacimiento'].dt.year\n",
    "inscripcion_conferencia.head()"
   ]
  },
  {
   "cell_type": "markdown",
   "id": "2feb6a47",
   "metadata": {},
   "source": [
    "Statistics of numeric data"
   ]
  },
  {
   "cell_type": "code",
   "execution_count": 14,
   "id": "2b8a9369",
   "metadata": {},
   "outputs": [
    {
     "data": {
      "text/html": [
       "<div>\n",
       "<style scoped>\n",
       "    .dataframe tbody tr th:only-of-type {\n",
       "        vertical-align: middle;\n",
       "    }\n",
       "\n",
       "    .dataframe tbody tr th {\n",
       "        vertical-align: top;\n",
       "    }\n",
       "\n",
       "    .dataframe thead th {\n",
       "        text-align: right;\n",
       "    }\n",
       "</style>\n",
       "<table border=\"1\" class=\"dataframe\">\n",
       "  <thead>\n",
       "    <tr style=\"text-align: right;\">\n",
       "      <th></th>\n",
       "      <th>IDEstudiante</th>\n",
       "      <th>FechaNacimiento</th>\n",
       "      <th>Ingresos</th>\n",
       "      <th>age</th>\n",
       "    </tr>\n",
       "  </thead>\n",
       "  <tbody>\n",
       "    <tr>\n",
       "      <th>count</th>\n",
       "      <td>2199.00</td>\n",
       "      <td>2199</td>\n",
       "      <td>2199.00</td>\n",
       "      <td>2199.00</td>\n",
       "    </tr>\n",
       "    <tr>\n",
       "      <th>mean</th>\n",
       "      <td>1100.00</td>\n",
       "      <td>2003-10-31 03:03:21.364256512</td>\n",
       "      <td>1003138.40</td>\n",
       "      <td>20.67</td>\n",
       "    </tr>\n",
       "    <tr>\n",
       "      <th>min</th>\n",
       "      <td>1.00</td>\n",
       "      <td>1993-10-12 00:00:00</td>\n",
       "      <td>502221.00</td>\n",
       "      <td>11.00</td>\n",
       "    </tr>\n",
       "    <tr>\n",
       "      <th>25%</th>\n",
       "      <td>550.50</td>\n",
       "      <td>1998-12-02 00:00:00</td>\n",
       "      <td>764890.00</td>\n",
       "      <td>16.00</td>\n",
       "    </tr>\n",
       "    <tr>\n",
       "      <th>50%</th>\n",
       "      <td>1100.00</td>\n",
       "      <td>2003-11-25 00:00:00</td>\n",
       "      <td>1039857.00</td>\n",
       "      <td>21.00</td>\n",
       "    </tr>\n",
       "    <tr>\n",
       "      <th>75%</th>\n",
       "      <td>1649.50</td>\n",
       "      <td>2008-09-24 00:00:00</td>\n",
       "      <td>1201420.50</td>\n",
       "      <td>26.00</td>\n",
       "    </tr>\n",
       "    <tr>\n",
       "      <th>max</th>\n",
       "      <td>2199.00</td>\n",
       "      <td>2013-09-27 00:00:00</td>\n",
       "      <td>1499407.00</td>\n",
       "      <td>31.00</td>\n",
       "    </tr>\n",
       "    <tr>\n",
       "      <th>std</th>\n",
       "      <td>634.94</td>\n",
       "      <td>NaN</td>\n",
       "      <td>277300.06</td>\n",
       "      <td>5.71</td>\n",
       "    </tr>\n",
       "  </tbody>\n",
       "</table>\n",
       "</div>"
      ],
      "text/plain": [
       "       IDEstudiante                FechaNacimiento   Ingresos     age\n",
       "count       2199.00                           2199    2199.00 2199.00\n",
       "mean        1100.00  2003-10-31 03:03:21.364256512 1003138.40   20.67\n",
       "min            1.00            1993-10-12 00:00:00  502221.00   11.00\n",
       "25%          550.50            1998-12-02 00:00:00  764890.00   16.00\n",
       "50%         1100.00            2003-11-25 00:00:00 1039857.00   21.00\n",
       "75%         1649.50            2008-09-24 00:00:00 1201420.50   26.00\n",
       "max         2199.00            2013-09-27 00:00:00 1499407.00   31.00\n",
       "std          634.94                            NaN  277300.06    5.71"
      ]
     },
     "execution_count": 14,
     "metadata": {},
     "output_type": "execute_result"
    }
   ],
   "source": [
    "# eliminar posiciones decimales\n",
    "pd.set_option('display.precision', 2)\n",
    "pd.set_option('display.float_format', lambda x: '%.2f' % x)\n",
    "\n",
    "inscripcion_conferencia.describe()"
   ]
  },
  {
   "cell_type": "markdown",
   "id": "1f7c5be7",
   "metadata": {},
   "source": [
    "No atypical value in the numeric columns seams to be."
   ]
  },
  {
   "cell_type": "code",
   "execution_count": 15,
   "id": "a58e29b7",
   "metadata": {},
   "outputs": [],
   "source": [
    "# export transform data\n",
    "inscripcion_conferencia.to_csv('..\\BasesFinales\\inscripcion_conferencia_transform.csv')"
   ]
  },
  {
   "cell_type": "markdown",
   "id": "97e7b646",
   "metadata": {},
   "source": [
    "## Second file: `estudiantes.csv`"
   ]
  },
  {
   "cell_type": "code",
   "execution_count": 16,
   "id": "c1d72698",
   "metadata": {},
   "outputs": [
    {
     "name": "stdout",
     "output_type": "stream",
     "text": [
      "<class 'pandas.core.frame.DataFrame'>\n",
      "RangeIndex: 976 entries, 0 to 975\n",
      "Data columns (total 3 columns):\n",
      " #   Column           Non-Null Count  Dtype \n",
      "---  ------           --------------  ----- \n",
      " 0   IDEstudiante     976 non-null    int64 \n",
      " 1   Nombre           976 non-null    object\n",
      " 2   FechaNacimiento  976 non-null    object\n",
      "dtypes: int64(1), object(2)\n",
      "memory usage: 23.0+ KB\n"
     ]
    }
   ],
   "source": [
    "# add file estudiantes.csv\n",
    "estudiantes = pd.read_csv('../BasesFinales/estudiantes.csv', sep=';', encoding='latin-1')\n",
    "estudiantes.info()"
   ]
  },
  {
   "cell_type": "code",
   "execution_count": 17,
   "id": "3d58b45c",
   "metadata": {},
   "outputs": [
    {
     "data": {
      "text/html": [
       "<div>\n",
       "<style scoped>\n",
       "    .dataframe tbody tr th:only-of-type {\n",
       "        vertical-align: middle;\n",
       "    }\n",
       "\n",
       "    .dataframe tbody tr th {\n",
       "        vertical-align: top;\n",
       "    }\n",
       "\n",
       "    .dataframe thead th {\n",
       "        text-align: right;\n",
       "    }\n",
       "</style>\n",
       "<table border=\"1\" class=\"dataframe\">\n",
       "  <thead>\n",
       "    <tr style=\"text-align: right;\">\n",
       "      <th></th>\n",
       "      <th>IDEstudiante</th>\n",
       "      <th>Nombre</th>\n",
       "      <th>FechaNacimiento</th>\n",
       "    </tr>\n",
       "  </thead>\n",
       "  <tbody>\n",
       "    <tr>\n",
       "      <th>0</th>\n",
       "      <td>1</td>\n",
       "      <td>Marcos Morales Rubiano</td>\n",
       "      <td>25/08/2009</td>\n",
       "    </tr>\n",
       "    <tr>\n",
       "      <th>1</th>\n",
       "      <td>2</td>\n",
       "      <td>Maria Rubiano Delgado</td>\n",
       "      <td>29/05/2011</td>\n",
       "    </tr>\n",
       "    <tr>\n",
       "      <th>2</th>\n",
       "      <td>5</td>\n",
       "      <td>Pablo Salazar Delgado</td>\n",
       "      <td>18/10/2005</td>\n",
       "    </tr>\n",
       "    <tr>\n",
       "      <th>3</th>\n",
       "      <td>6</td>\n",
       "      <td>Marcos Jiménez Marín</td>\n",
       "      <td>16/12/2000</td>\n",
       "    </tr>\n",
       "    <tr>\n",
       "      <th>4</th>\n",
       "      <td>7</td>\n",
       "      <td>Luis Reyes Ríos</td>\n",
       "      <td>28/05/2011</td>\n",
       "    </tr>\n",
       "  </tbody>\n",
       "</table>\n",
       "</div>"
      ],
      "text/plain": [
       "   IDEstudiante                  Nombre FechaNacimiento\n",
       "0             1  Marcos Morales Rubiano      25/08/2009\n",
       "1             2   Maria Rubiano Delgado      29/05/2011\n",
       "2             5   Pablo Salazar Delgado      18/10/2005\n",
       "3             6    Marcos Jiménez Marín      16/12/2000\n",
       "4             7         Luis Reyes Ríos      28/05/2011"
      ]
     },
     "execution_count": 17,
     "metadata": {},
     "output_type": "execute_result"
    }
   ],
   "source": [
    "estudiantes.head()"
   ]
  },
  {
   "cell_type": "code",
   "execution_count": 18,
   "id": "1a04f4bb",
   "metadata": {},
   "outputs": [
    {
     "data": {
      "text/plain": [
       "976"
      ]
     },
     "execution_count": 18,
     "metadata": {},
     "output_type": "execute_result"
    }
   ],
   "source": [
    "# check unique names and count\n",
    "estudiantes['Nombre'].nunique(dropna=False)"
   ]
  },
  {
   "cell_type": "code",
   "execution_count": 19,
   "id": "2bc949b6",
   "metadata": {},
   "outputs": [
    {
     "name": "stdout",
     "output_type": "stream",
     "text": [
      "<class 'pandas.core.frame.DataFrame'>\n",
      "RangeIndex: 976 entries, 0 to 975\n",
      "Data columns (total 3 columns):\n",
      " #   Column           Non-Null Count  Dtype         \n",
      "---  ------           --------------  -----         \n",
      " 0   IDEstudiante     976 non-null    int64         \n",
      " 1   Nombre           976 non-null    object        \n",
      " 2   FechaNacimiento  976 non-null    datetime64[ns]\n",
      "dtypes: datetime64[ns](1), int64(1), object(1)\n",
      "memory usage: 23.0+ KB\n"
     ]
    }
   ],
   "source": [
    "# convert date to datetime type\n",
    "estudiantes['FechaNacimiento'] = pd.to_datetime(estudiantes['FechaNacimiento'], dayfirst=True)\n",
    "estudiantes.info()"
   ]
  },
  {
   "cell_type": "code",
   "execution_count": 20,
   "id": "c0bb5a6b",
   "metadata": {},
   "outputs": [
    {
     "data": {
      "text/html": [
       "<div>\n",
       "<style scoped>\n",
       "    .dataframe tbody tr th:only-of-type {\n",
       "        vertical-align: middle;\n",
       "    }\n",
       "\n",
       "    .dataframe tbody tr th {\n",
       "        vertical-align: top;\n",
       "    }\n",
       "\n",
       "    .dataframe thead th {\n",
       "        text-align: right;\n",
       "    }\n",
       "</style>\n",
       "<table border=\"1\" class=\"dataframe\">\n",
       "  <thead>\n",
       "    <tr style=\"text-align: right;\">\n",
       "      <th></th>\n",
       "      <th>IDEstudiante</th>\n",
       "      <th>Nombre</th>\n",
       "      <th>FechaNacimiento</th>\n",
       "      <th>age</th>\n",
       "    </tr>\n",
       "  </thead>\n",
       "  <tbody>\n",
       "    <tr>\n",
       "      <th>0</th>\n",
       "      <td>1</td>\n",
       "      <td>Marcos Morales Rubiano</td>\n",
       "      <td>2009-08-25</td>\n",
       "      <td>15</td>\n",
       "    </tr>\n",
       "    <tr>\n",
       "      <th>1</th>\n",
       "      <td>2</td>\n",
       "      <td>Maria Rubiano Delgado</td>\n",
       "      <td>2011-05-29</td>\n",
       "      <td>13</td>\n",
       "    </tr>\n",
       "    <tr>\n",
       "      <th>2</th>\n",
       "      <td>5</td>\n",
       "      <td>Pablo Salazar Delgado</td>\n",
       "      <td>2005-10-18</td>\n",
       "      <td>19</td>\n",
       "    </tr>\n",
       "    <tr>\n",
       "      <th>3</th>\n",
       "      <td>6</td>\n",
       "      <td>Marcos Jiménez Marín</td>\n",
       "      <td>2000-12-16</td>\n",
       "      <td>24</td>\n",
       "    </tr>\n",
       "    <tr>\n",
       "      <th>4</th>\n",
       "      <td>7</td>\n",
       "      <td>Luis Reyes Ríos</td>\n",
       "      <td>2011-05-28</td>\n",
       "      <td>13</td>\n",
       "    </tr>\n",
       "  </tbody>\n",
       "</table>\n",
       "</div>"
      ],
      "text/plain": [
       "   IDEstudiante                  Nombre FechaNacimiento  age\n",
       "0             1  Marcos Morales Rubiano      2009-08-25   15\n",
       "1             2   Maria Rubiano Delgado      2011-05-29   13\n",
       "2             5   Pablo Salazar Delgado      2005-10-18   19\n",
       "3             6    Marcos Jiménez Marín      2000-12-16   24\n",
       "4             7         Luis Reyes Ríos      2011-05-28   13"
      ]
     },
     "execution_count": 20,
     "metadata": {},
     "output_type": "execute_result"
    }
   ],
   "source": [
    "# add age column\n",
    "estudiantes['age'] = current_year - estudiantes['FechaNacimiento'].dt.year\n",
    "estudiantes.head()"
   ]
  },
  {
   "cell_type": "code",
   "execution_count": 21,
   "id": "73cbc52e",
   "metadata": {},
   "outputs": [
    {
     "data": {
      "text/html": [
       "<div>\n",
       "<style scoped>\n",
       "    .dataframe tbody tr th:only-of-type {\n",
       "        vertical-align: middle;\n",
       "    }\n",
       "\n",
       "    .dataframe tbody tr th {\n",
       "        vertical-align: top;\n",
       "    }\n",
       "\n",
       "    .dataframe thead th {\n",
       "        text-align: right;\n",
       "    }\n",
       "</style>\n",
       "<table border=\"1\" class=\"dataframe\">\n",
       "  <thead>\n",
       "    <tr style=\"text-align: right;\">\n",
       "      <th></th>\n",
       "      <th>IDEstudiante</th>\n",
       "      <th>FechaNacimiento</th>\n",
       "      <th>age</th>\n",
       "    </tr>\n",
       "  </thead>\n",
       "  <tbody>\n",
       "    <tr>\n",
       "      <th>count</th>\n",
       "      <td>976.00</td>\n",
       "      <td>976</td>\n",
       "      <td>976.00</td>\n",
       "    </tr>\n",
       "    <tr>\n",
       "      <th>mean</th>\n",
       "      <td>979.85</td>\n",
       "      <td>2004-03-06 16:46:13.770491776</td>\n",
       "      <td>20.32</td>\n",
       "    </tr>\n",
       "    <tr>\n",
       "      <th>min</th>\n",
       "      <td>1.00</td>\n",
       "      <td>1993-10-12 00:00:00</td>\n",
       "      <td>11.00</td>\n",
       "    </tr>\n",
       "    <tr>\n",
       "      <th>25%</th>\n",
       "      <td>504.75</td>\n",
       "      <td>1999-04-06 00:00:00</td>\n",
       "      <td>15.00</td>\n",
       "    </tr>\n",
       "    <tr>\n",
       "      <th>50%</th>\n",
       "      <td>949.00</td>\n",
       "      <td>2004-06-22 12:00:00</td>\n",
       "      <td>20.00</td>\n",
       "    </tr>\n",
       "    <tr>\n",
       "      <th>75%</th>\n",
       "      <td>1471.25</td>\n",
       "      <td>2009-04-04 06:00:00</td>\n",
       "      <td>25.00</td>\n",
       "    </tr>\n",
       "    <tr>\n",
       "      <th>max</th>\n",
       "      <td>1999.00</td>\n",
       "      <td>2013-09-22 00:00:00</td>\n",
       "      <td>31.00</td>\n",
       "    </tr>\n",
       "    <tr>\n",
       "      <th>std</th>\n",
       "      <td>575.27</td>\n",
       "      <td>NaN</td>\n",
       "      <td>5.78</td>\n",
       "    </tr>\n",
       "  </tbody>\n",
       "</table>\n",
       "</div>"
      ],
      "text/plain": [
       "       IDEstudiante                FechaNacimiento    age\n",
       "count        976.00                            976 976.00\n",
       "mean         979.85  2004-03-06 16:46:13.770491776  20.32\n",
       "min            1.00            1993-10-12 00:00:00  11.00\n",
       "25%          504.75            1999-04-06 00:00:00  15.00\n",
       "50%          949.00            2004-06-22 12:00:00  20.00\n",
       "75%         1471.25            2009-04-04 06:00:00  25.00\n",
       "max         1999.00            2013-09-22 00:00:00  31.00\n",
       "std          575.27                            NaN   5.78"
      ]
     },
     "execution_count": 21,
     "metadata": {},
     "output_type": "execute_result"
    }
   ],
   "source": [
    "estudiantes.describe()"
   ]
  },
  {
   "cell_type": "markdown",
   "id": "01ab20f2",
   "metadata": {},
   "source": [
    "The data doesn't contain null values nor atypical. The column age was added."
   ]
  },
  {
   "cell_type": "code",
   "execution_count": 22,
   "id": "25208154",
   "metadata": {},
   "outputs": [],
   "source": [
    "# export transformed file\n",
    "estudiantes.to_csv('../BasesFinales/estudiantes_transform.csv')"
   ]
  },
  {
   "cell_type": "markdown",
   "id": "dbe64e5b",
   "metadata": {},
   "source": [
    "## Third file: `donantes_inscritos.csv`"
   ]
  },
  {
   "cell_type": "code",
   "execution_count": 23,
   "id": "5b5f45f6",
   "metadata": {},
   "outputs": [
    {
     "name": "stdout",
     "output_type": "stream",
     "text": [
      "<class 'pandas.core.frame.DataFrame'>\n",
      "RangeIndex: 4992 entries, 0 to 4991\n",
      "Data columns (total 9 columns):\n",
      " #   Column             Non-Null Count  Dtype \n",
      "---  ------             --------------  ----- \n",
      " 0   IDDonante          4992 non-null   int64 \n",
      " 1   Nombres            4992 non-null   object\n",
      " 2   CorreoElectronico  4992 non-null   object\n",
      " 3   Telefono           4992 non-null   object\n",
      " 4   Direccion          4992 non-null   object\n",
      " 5   Ciudad             4992 non-null   object\n",
      " 6   Estado             4992 non-null   object\n",
      " 7   Pais               4992 non-null   object\n",
      " 8   Codigopostal       4992 non-null   int64 \n",
      "dtypes: int64(2), object(7)\n",
      "memory usage: 351.1+ KB\n"
     ]
    }
   ],
   "source": [
    "# add file donantes_inscritos.csv\n",
    "donantes_inscritos = pd.read_csv('../BasesFinales/donantes_inscritos.csv', sep=';', encoding = 'latin-1')\n",
    "donantes_inscritos.info()"
   ]
  },
  {
   "cell_type": "code",
   "execution_count": 24,
   "id": "36f55550",
   "metadata": {},
   "outputs": [
    {
     "data": {
      "text/html": [
       "<div>\n",
       "<style scoped>\n",
       "    .dataframe tbody tr th:only-of-type {\n",
       "        vertical-align: middle;\n",
       "    }\n",
       "\n",
       "    .dataframe tbody tr th {\n",
       "        vertical-align: top;\n",
       "    }\n",
       "\n",
       "    .dataframe thead th {\n",
       "        text-align: right;\n",
       "    }\n",
       "</style>\n",
       "<table border=\"1\" class=\"dataframe\">\n",
       "  <thead>\n",
       "    <tr style=\"text-align: right;\">\n",
       "      <th></th>\n",
       "      <th>IDDonante</th>\n",
       "      <th>Nombres</th>\n",
       "      <th>CorreoElectronico</th>\n",
       "      <th>Telefono</th>\n",
       "      <th>Direccion</th>\n",
       "      <th>Ciudad</th>\n",
       "      <th>Estado</th>\n",
       "      <th>Pais</th>\n",
       "      <th>Codigopostal</th>\n",
       "    </tr>\n",
       "  </thead>\n",
       "  <tbody>\n",
       "    <tr>\n",
       "      <th>1342</th>\n",
       "      <td>2402</td>\n",
       "      <td>Isabela Gutierrez Rodriguez</td>\n",
       "      <td>ugdofemi@example.com</td>\n",
       "      <td>774-4532</td>\n",
       "      <td>Calle Zona 1</td>\n",
       "      <td>Mexico DF</td>\n",
       "      <td>Distrito Federal</td>\n",
       "      <td>Mexico</td>\n",
       "      <td>1010</td>\n",
       "    </tr>\n",
       "    <tr>\n",
       "      <th>1746</th>\n",
       "      <td>1096</td>\n",
       "      <td>Gabriela Lopez Gonzalez</td>\n",
       "      <td>wzcq83sx@example.com</td>\n",
       "      <td>372-5190</td>\n",
       "      <td>Avenida 45 #67</td>\n",
       "      <td>Bogota</td>\n",
       "      <td>Bogota D.C.</td>\n",
       "      <td>Colombia</td>\n",
       "      <td>110111</td>\n",
       "    </tr>\n",
       "    <tr>\n",
       "      <th>595</th>\n",
       "      <td>3853</td>\n",
       "      <td>David Perez Rodriguez</td>\n",
       "      <td>13b1qb7q@example.com</td>\n",
       "      <td>272-1823</td>\n",
       "      <td>Avenida 45 #67</td>\n",
       "      <td>Bogota</td>\n",
       "      <td>Bogota D.C.</td>\n",
       "      <td>Colombia</td>\n",
       "      <td>110112</td>\n",
       "    </tr>\n",
       "    <tr>\n",
       "      <th>4754</th>\n",
       "      <td>82</td>\n",
       "      <td>Antonio Perez Garcia</td>\n",
       "      <td>cn377u6i@example.com</td>\n",
       "      <td>325-9287</td>\n",
       "      <td>Calle Zona 1</td>\n",
       "      <td>Mexico DF</td>\n",
       "      <td>Distrito Federal</td>\n",
       "      <td>Mexico</td>\n",
       "      <td>1010</td>\n",
       "    </tr>\n",
       "    <tr>\n",
       "      <th>1509</th>\n",
       "      <td>1527</td>\n",
       "      <td>Jose Vargas Morales</td>\n",
       "      <td>43q552qq@example.com</td>\n",
       "      <td>505-7277</td>\n",
       "      <td>Avenida 45 #67</td>\n",
       "      <td>Bogota</td>\n",
       "      <td>Bogota D.C.</td>\n",
       "      <td>Colombia</td>\n",
       "      <td>110112</td>\n",
       "    </tr>\n",
       "    <tr>\n",
       "      <th>3508</th>\n",
       "      <td>978</td>\n",
       "      <td>Luisana Garcia Garcia</td>\n",
       "      <td>0nsfzfh2@example.com</td>\n",
       "      <td>732-6609</td>\n",
       "      <td>Jiron Lima</td>\n",
       "      <td>Lima</td>\n",
       "      <td>Lima</td>\n",
       "      <td>Peru</td>\n",
       "      <td>15001</td>\n",
       "    </tr>\n",
       "    <tr>\n",
       "      <th>267</th>\n",
       "      <td>416</td>\n",
       "      <td>Lucia Gomez Martinez</td>\n",
       "      <td>q3oaymu2@example.com</td>\n",
       "      <td>750-2732</td>\n",
       "      <td>Avenida Dos</td>\n",
       "      <td>Santiago</td>\n",
       "      <td>Metropolitana</td>\n",
       "      <td>Chile</td>\n",
       "      <td>7500000</td>\n",
       "    </tr>\n",
       "    <tr>\n",
       "      <th>3563</th>\n",
       "      <td>1200</td>\n",
       "      <td>Luis Sanchez Romero</td>\n",
       "      <td>xgkpx0ts@example.com</td>\n",
       "      <td>199-3277</td>\n",
       "      <td>Avenida Cuzco</td>\n",
       "      <td>Lima</td>\n",
       "      <td>Lima</td>\n",
       "      <td>Peru</td>\n",
       "      <td>15001</td>\n",
       "    </tr>\n",
       "    <tr>\n",
       "      <th>2374</th>\n",
       "      <td>4088</td>\n",
       "      <td>Luis Martinez Sanchez</td>\n",
       "      <td>1lnlpega@example.com</td>\n",
       "      <td>995-1838</td>\n",
       "      <td>Avenida 45 #67</td>\n",
       "      <td>Bogota</td>\n",
       "      <td>Bogota D.C.</td>\n",
       "      <td>Colombia</td>\n",
       "      <td>110111</td>\n",
       "    </tr>\n",
       "    <tr>\n",
       "      <th>885</th>\n",
       "      <td>3394</td>\n",
       "      <td>Lucia Gomez Rodriguez</td>\n",
       "      <td>z05pediq@example.com</td>\n",
       "      <td>628-2676</td>\n",
       "      <td>Avenida Cuzco</td>\n",
       "      <td>Lima</td>\n",
       "      <td>Lima</td>\n",
       "      <td>Peru</td>\n",
       "      <td>15001</td>\n",
       "    </tr>\n",
       "  </tbody>\n",
       "</table>\n",
       "</div>"
      ],
      "text/plain": [
       "      IDDonante                      Nombres     CorreoElectronico  Telefono  \\\n",
       "1342       2402  Isabela Gutierrez Rodriguez  ugdofemi@example.com  774-4532   \n",
       "1746       1096      Gabriela Lopez Gonzalez  wzcq83sx@example.com  372-5190   \n",
       "595        3853        David Perez Rodriguez  13b1qb7q@example.com  272-1823   \n",
       "4754         82         Antonio Perez Garcia  cn377u6i@example.com  325-9287   \n",
       "1509       1527          Jose Vargas Morales  43q552qq@example.com  505-7277   \n",
       "3508        978        Luisana Garcia Garcia  0nsfzfh2@example.com  732-6609   \n",
       "267         416         Lucia Gomez Martinez  q3oaymu2@example.com  750-2732   \n",
       "3563       1200          Luis Sanchez Romero  xgkpx0ts@example.com  199-3277   \n",
       "2374       4088        Luis Martinez Sanchez  1lnlpega@example.com  995-1838   \n",
       "885        3394        Lucia Gomez Rodriguez  z05pediq@example.com  628-2676   \n",
       "\n",
       "           Direccion     Ciudad            Estado      Pais  Codigopostal  \n",
       "1342    Calle Zona 1  Mexico DF  Distrito Federal    Mexico          1010  \n",
       "1746  Avenida 45 #67     Bogota       Bogota D.C.  Colombia        110111  \n",
       "595   Avenida 45 #67     Bogota       Bogota D.C.  Colombia        110112  \n",
       "4754    Calle Zona 1  Mexico DF  Distrito Federal    Mexico          1010  \n",
       "1509  Avenida 45 #67     Bogota       Bogota D.C.  Colombia        110112  \n",
       "3508      Jiron Lima       Lima              Lima      Peru         15001  \n",
       "267      Avenida Dos   Santiago     Metropolitana     Chile       7500000  \n",
       "3563   Avenida Cuzco       Lima              Lima      Peru         15001  \n",
       "2374  Avenida 45 #67     Bogota       Bogota D.C.  Colombia        110111  \n",
       "885    Avenida Cuzco       Lima              Lima      Peru         15001  "
      ]
     },
     "execution_count": 24,
     "metadata": {},
     "output_type": "execute_result"
    }
   ],
   "source": [
    "donantes_inscritos.sample(10)"
   ]
  },
  {
   "cell_type": "code",
   "execution_count": 25,
   "id": "32f6ca99",
   "metadata": {},
   "outputs": [
    {
     "data": {
      "text/plain": [
       "IDDonante            4992\n",
       "Nombres              4992\n",
       "CorreoElectronico    4992\n",
       "Telefono             4991\n",
       "Direccion              10\n",
       "Ciudad                  5\n",
       "Estado                  5\n",
       "Pais                    5\n",
       "Codigopostal           10\n",
       "dtype: int64"
      ]
     },
     "execution_count": 25,
     "metadata": {},
     "output_type": "execute_result"
    }
   ],
   "source": [
    "donantes_inscritos.nunique(dropna=False)"
   ]
  },
  {
   "cell_type": "code",
   "execution_count": 26,
   "id": "de32963e",
   "metadata": {},
   "outputs": [
    {
     "data": {
      "text/plain": [
       "Telefono\n",
       "287-2826    2\n",
       "848-3536    1\n",
       "687-9392    1\n",
       "735-7556    1\n",
       "108-2469    1\n",
       "Name: count, dtype: int64"
      ]
     },
     "execution_count": 26,
     "metadata": {},
     "output_type": "execute_result"
    }
   ],
   "source": [
    "donantes_inscritos['Telefono'].value_counts(dropna=False, ascending=False).head()"
   ]
  },
  {
   "cell_type": "code",
   "execution_count": 27,
   "id": "ba3208b2",
   "metadata": {},
   "outputs": [
    {
     "data": {
      "text/html": [
       "<div>\n",
       "<style scoped>\n",
       "    .dataframe tbody tr th:only-of-type {\n",
       "        vertical-align: middle;\n",
       "    }\n",
       "\n",
       "    .dataframe tbody tr th {\n",
       "        vertical-align: top;\n",
       "    }\n",
       "\n",
       "    .dataframe thead th {\n",
       "        text-align: right;\n",
       "    }\n",
       "</style>\n",
       "<table border=\"1\" class=\"dataframe\">\n",
       "  <thead>\n",
       "    <tr style=\"text-align: right;\">\n",
       "      <th></th>\n",
       "      <th>IDDonante</th>\n",
       "      <th>Nombres</th>\n",
       "      <th>CorreoElectronico</th>\n",
       "      <th>Telefono</th>\n",
       "      <th>Direccion</th>\n",
       "      <th>Ciudad</th>\n",
       "      <th>Estado</th>\n",
       "      <th>Pais</th>\n",
       "      <th>Codigopostal</th>\n",
       "    </tr>\n",
       "  </thead>\n",
       "  <tbody>\n",
       "    <tr>\n",
       "      <th>810</th>\n",
       "      <td>3182</td>\n",
       "      <td>Isabella Ortega Castro</td>\n",
       "      <td>przfpb37@example.com</td>\n",
       "      <td>287-2826</td>\n",
       "      <td>Avenida Cuzco</td>\n",
       "      <td>Lima</td>\n",
       "      <td>Lima</td>\n",
       "      <td>Peru</td>\n",
       "      <td>15001</td>\n",
       "    </tr>\n",
       "    <tr>\n",
       "      <th>3445</th>\n",
       "      <td>1484</td>\n",
       "      <td>Luisana Rodriguez Morales</td>\n",
       "      <td>6nw11q32@example.com</td>\n",
       "      <td>287-2826</td>\n",
       "      <td>Calle A</td>\n",
       "      <td>Buenos Aires</td>\n",
       "      <td>Buenos Aires</td>\n",
       "      <td>Argentina</td>\n",
       "      <td>1000</td>\n",
       "    </tr>\n",
       "  </tbody>\n",
       "</table>\n",
       "</div>"
      ],
      "text/plain": [
       "      IDDonante                    Nombres     CorreoElectronico  Telefono  \\\n",
       "810        3182     Isabella Ortega Castro  przfpb37@example.com  287-2826   \n",
       "3445       1484  Luisana Rodriguez Morales  6nw11q32@example.com  287-2826   \n",
       "\n",
       "          Direccion        Ciudad        Estado       Pais  Codigopostal  \n",
       "810   Avenida Cuzco          Lima          Lima       Peru         15001  \n",
       "3445        Calle A  Buenos Aires  Buenos Aires  Argentina          1000  "
      ]
     },
     "execution_count": 27,
     "metadata": {},
     "output_type": "execute_result"
    }
   ],
   "source": [
    "donantes_inscritos[donantes_inscritos['Telefono'] == '287-2826']"
   ]
  },
  {
   "cell_type": "code",
   "execution_count": 28,
   "id": "d50dad1e",
   "metadata": {},
   "outputs": [
    {
     "data": {
      "text/plain": [
       "array(['Jiron Lima', 'Calle A', 'Calle Zona 1', 'Avenida Cuzco',\n",
       "       'Avenida Norte', 'Calle Uno', 'Avenida Dos', 'Calle 1 #23',\n",
       "       'Avenida 45 #67', 'Avenida B'], dtype=object)"
      ]
     },
     "execution_count": 28,
     "metadata": {},
     "output_type": "execute_result"
    }
   ],
   "source": [
    "donantes_inscritos['Direccion'].unique()"
   ]
  },
  {
   "cell_type": "code",
   "execution_count": 29,
   "id": "a7340d84",
   "metadata": {},
   "outputs": [
    {
     "data": {
      "text/plain": [
       "array(['Lima', 'Buenos Aires', 'Mexico DF', 'Santiago', 'Bogota'],\n",
       "      dtype=object)"
      ]
     },
     "execution_count": 29,
     "metadata": {},
     "output_type": "execute_result"
    }
   ],
   "source": [
    "donantes_inscritos['Ciudad'].unique()"
   ]
  },
  {
   "cell_type": "code",
   "execution_count": 30,
   "id": "048d442b",
   "metadata": {},
   "outputs": [
    {
     "data": {
      "text/plain": [
       "array(['Lima', 'Buenos Aires', 'Distrito Federal', 'Metropolitana',\n",
       "       'Bogota D.C.'], dtype=object)"
      ]
     },
     "execution_count": 30,
     "metadata": {},
     "output_type": "execute_result"
    }
   ],
   "source": [
    "donantes_inscritos['Estado'].unique()"
   ]
  },
  {
   "cell_type": "code",
   "execution_count": 31,
   "id": "23083abc",
   "metadata": {},
   "outputs": [
    {
     "data": {
      "text/plain": [
       "array(['Peru', 'Argentina', 'Mexico', 'Chile', 'Colombia'], dtype=object)"
      ]
     },
     "execution_count": 31,
     "metadata": {},
     "output_type": "execute_result"
    }
   ],
   "source": [
    "donantes_inscritos['Pais'].unique()"
   ]
  },
  {
   "cell_type": "code",
   "execution_count": 32,
   "id": "e9b378d4",
   "metadata": {},
   "outputs": [
    {
     "data": {
      "text/plain": [
       "array([  15002,    1001,    1010,   15001,    1011, 7500000, 7500001,\n",
       "        110111,  110112,    1000], dtype=int64)"
      ]
     },
     "execution_count": 32,
     "metadata": {},
     "output_type": "execute_result"
    }
   ],
   "source": [
    "donantes_inscritos['Codigopostal'].unique()"
   ]
  },
  {
   "cell_type": "markdown",
   "id": "3511dcbb",
   "metadata": {},
   "source": [
    "## Fourth file: `donaciones.csv`"
   ]
  },
  {
   "cell_type": "code",
   "execution_count": 33,
   "id": "ce12ffdb",
   "metadata": {},
   "outputs": [
    {
     "name": "stdout",
     "output_type": "stream",
     "text": [
      "<class 'pandas.core.frame.DataFrame'>\n",
      "RangeIndex: 20000 entries, 0 to 19999\n",
      "Data columns (total 7 columns):\n",
      " #   Column          Non-Null Count  Dtype  \n",
      "---  ------          --------------  -----  \n",
      " 0   IDDonacion      20000 non-null  int64  \n",
      " 1   IDDonante       20000 non-null  int64  \n",
      " 2   Cantidad        20000 non-null  float64\n",
      " 3   FechaDonacion   20000 non-null  object \n",
      " 4   MetodoDonacion  20000 non-null  object \n",
      " 5   Comentario      11882 non-null  object \n",
      " 6   EsAnonimo       20000 non-null  bool   \n",
      "dtypes: bool(1), float64(1), int64(2), object(3)\n",
      "memory usage: 957.2+ KB\n"
     ]
    }
   ],
   "source": [
    "donaciones = pd.read_csv('../BasesFinales/donaciones.csv', sep=';', encoding='latin-1')\n",
    "donaciones.info()"
   ]
  },
  {
   "cell_type": "code",
   "execution_count": 34,
   "id": "26166f2d",
   "metadata": {},
   "outputs": [
    {
     "data": {
      "text/html": [
       "<div>\n",
       "<style scoped>\n",
       "    .dataframe tbody tr th:only-of-type {\n",
       "        vertical-align: middle;\n",
       "    }\n",
       "\n",
       "    .dataframe tbody tr th {\n",
       "        vertical-align: top;\n",
       "    }\n",
       "\n",
       "    .dataframe thead th {\n",
       "        text-align: right;\n",
       "    }\n",
       "</style>\n",
       "<table border=\"1\" class=\"dataframe\">\n",
       "  <thead>\n",
       "    <tr style=\"text-align: right;\">\n",
       "      <th></th>\n",
       "      <th>IDDonacion</th>\n",
       "      <th>IDDonante</th>\n",
       "      <th>Cantidad</th>\n",
       "      <th>FechaDonacion</th>\n",
       "      <th>MetodoDonacion</th>\n",
       "      <th>Comentario</th>\n",
       "      <th>EsAnonimo</th>\n",
       "    </tr>\n",
       "  </thead>\n",
       "  <tbody>\n",
       "    <tr>\n",
       "      <th>15910</th>\n",
       "      <td>15911</td>\n",
       "      <td>10153</td>\n",
       "      <td>886.97</td>\n",
       "      <td>12/11/2020</td>\n",
       "      <td>Bank Transfer</td>\n",
       "      <td>In memory of...</td>\n",
       "      <td>True</td>\n",
       "    </tr>\n",
       "    <tr>\n",
       "      <th>17284</th>\n",
       "      <td>17285</td>\n",
       "      <td>5055</td>\n",
       "      <td>624.03</td>\n",
       "      <td>1/06/2020</td>\n",
       "      <td>PayPal</td>\n",
       "      <td>NaN</td>\n",
       "      <td>True</td>\n",
       "    </tr>\n",
       "    <tr>\n",
       "      <th>1051</th>\n",
       "      <td>1052</td>\n",
       "      <td>2471</td>\n",
       "      <td>397.98</td>\n",
       "      <td>20/03/2020</td>\n",
       "      <td>Bank Transfer</td>\n",
       "      <td>In memory of...</td>\n",
       "      <td>True</td>\n",
       "    </tr>\n",
       "    <tr>\n",
       "      <th>15641</th>\n",
       "      <td>15642</td>\n",
       "      <td>3863</td>\n",
       "      <td>987.12</td>\n",
       "      <td>28/11/2021</td>\n",
       "      <td>Credit Card</td>\n",
       "      <td>NaN</td>\n",
       "      <td>False</td>\n",
       "    </tr>\n",
       "    <tr>\n",
       "      <th>13811</th>\n",
       "      <td>13812</td>\n",
       "      <td>18765</td>\n",
       "      <td>186.52</td>\n",
       "      <td>18/10/2018</td>\n",
       "      <td>Credit Card</td>\n",
       "      <td>For a good cause.</td>\n",
       "      <td>False</td>\n",
       "    </tr>\n",
       "    <tr>\n",
       "      <th>12155</th>\n",
       "      <td>12156</td>\n",
       "      <td>4606</td>\n",
       "      <td>864.13</td>\n",
       "      <td>4/03/2022</td>\n",
       "      <td>PayPal</td>\n",
       "      <td>For a good cause.</td>\n",
       "      <td>True</td>\n",
       "    </tr>\n",
       "    <tr>\n",
       "      <th>1570</th>\n",
       "      <td>1571</td>\n",
       "      <td>14378</td>\n",
       "      <td>450.30</td>\n",
       "      <td>1/03/2019</td>\n",
       "      <td>Credit Card</td>\n",
       "      <td>Keep up the good work!</td>\n",
       "      <td>True</td>\n",
       "    </tr>\n",
       "    <tr>\n",
       "      <th>14063</th>\n",
       "      <td>14064</td>\n",
       "      <td>8621</td>\n",
       "      <td>103.12</td>\n",
       "      <td>16/03/2021</td>\n",
       "      <td>Credit Card</td>\n",
       "      <td>NaN</td>\n",
       "      <td>False</td>\n",
       "    </tr>\n",
       "    <tr>\n",
       "      <th>4484</th>\n",
       "      <td>4485</td>\n",
       "      <td>7121</td>\n",
       "      <td>129.15</td>\n",
       "      <td>3/02/2021</td>\n",
       "      <td>Credit Card</td>\n",
       "      <td>For a good cause.</td>\n",
       "      <td>True</td>\n",
       "    </tr>\n",
       "    <tr>\n",
       "      <th>4559</th>\n",
       "      <td>4560</td>\n",
       "      <td>10645</td>\n",
       "      <td>438.95</td>\n",
       "      <td>8/01/2021</td>\n",
       "      <td>Credit Card</td>\n",
       "      <td>For a good cause.</td>\n",
       "      <td>False</td>\n",
       "    </tr>\n",
       "  </tbody>\n",
       "</table>\n",
       "</div>"
      ],
      "text/plain": [
       "       IDDonacion  IDDonante  Cantidad FechaDonacion MetodoDonacion  \\\n",
       "15910       15911      10153    886.97    12/11/2020  Bank Transfer   \n",
       "17284       17285       5055    624.03     1/06/2020         PayPal   \n",
       "1051         1052       2471    397.98    20/03/2020  Bank Transfer   \n",
       "15641       15642       3863    987.12    28/11/2021    Credit Card   \n",
       "13811       13812      18765    186.52    18/10/2018    Credit Card   \n",
       "12155       12156       4606    864.13     4/03/2022         PayPal   \n",
       "1570         1571      14378    450.30     1/03/2019    Credit Card   \n",
       "14063       14064       8621    103.12    16/03/2021    Credit Card   \n",
       "4484         4485       7121    129.15     3/02/2021    Credit Card   \n",
       "4559         4560      10645    438.95     8/01/2021    Credit Card   \n",
       "\n",
       "                   Comentario  EsAnonimo  \n",
       "15910         In memory of...       True  \n",
       "17284                     NaN       True  \n",
       "1051          In memory of...       True  \n",
       "15641                     NaN      False  \n",
       "13811       For a good cause.      False  \n",
       "12155       For a good cause.       True  \n",
       "1570   Keep up the good work!       True  \n",
       "14063                     NaN      False  \n",
       "4484        For a good cause.       True  \n",
       "4559        For a good cause.      False  "
      ]
     },
     "execution_count": 34,
     "metadata": {},
     "output_type": "execute_result"
    }
   ],
   "source": [
    "donaciones.sample(10)"
   ]
  },
  {
   "cell_type": "code",
   "execution_count": 35,
   "id": "0bbd6093",
   "metadata": {},
   "outputs": [
    {
     "data": {
      "text/plain": [
       "IDDonacion        20000\n",
       "IDDonante         12609\n",
       "Cantidad          18157\n",
       "FechaDonacion      1826\n",
       "MetodoDonacion        4\n",
       "Comentario            3\n",
       "EsAnonimo             2\n",
       "dtype: int64"
      ]
     },
     "execution_count": 35,
     "metadata": {},
     "output_type": "execute_result"
    }
   ],
   "source": [
    "donaciones.nunique()"
   ]
  },
  {
   "cell_type": "code",
   "execution_count": 37,
   "id": "66477bd4",
   "metadata": {},
   "outputs": [
    {
     "name": "stdout",
     "output_type": "stream",
     "text": [
      "<class 'pandas.core.frame.DataFrame'>\n",
      "RangeIndex: 20000 entries, 0 to 19999\n",
      "Data columns (total 7 columns):\n",
      " #   Column          Non-Null Count  Dtype         \n",
      "---  ------          --------------  -----         \n",
      " 0   IDDonacion      20000 non-null  int64         \n",
      " 1   IDDonante       20000 non-null  int64         \n",
      " 2   Cantidad        20000 non-null  float64       \n",
      " 3   FechaDonacion   20000 non-null  datetime64[ns]\n",
      " 4   MetodoDonacion  20000 non-null  object        \n",
      " 5   Comentario      11882 non-null  object        \n",
      " 6   EsAnonimo       20000 non-null  bool          \n",
      "dtypes: bool(1), datetime64[ns](1), float64(1), int64(2), object(2)\n",
      "memory usage: 957.2+ KB\n"
     ]
    }
   ],
   "source": [
    "#change date format\n",
    "donaciones['FechaDonacion'] = pd.to_datetime(donaciones['FechaDonacion'], dayfirst = True)\n",
    "donaciones.info()"
   ]
  },
  {
   "cell_type": "code",
   "execution_count": 38,
   "id": "731f9ca8",
   "metadata": {},
   "outputs": [
    {
     "data": {
      "text/plain": [
       "array(['Bank Transfer', 'Credit Card', 'Cash', 'PayPal'], dtype=object)"
      ]
     },
     "execution_count": 38,
     "metadata": {},
     "output_type": "execute_result"
    }
   ],
   "source": [
    "donaciones['MetodoDonacion'].unique()"
   ]
  },
  {
   "cell_type": "markdown",
   "id": "1b908cb0",
   "metadata": {},
   "source": [
    "Some donners didn't left a comment, however this catogory isn't relevant for the requested analysis."
   ]
  }
 ],
 "metadata": {
  "kernelspec": {
   "display_name": "Python 3 (ipykernel)",
   "language": "python",
   "name": "python3"
  },
  "language_info": {
   "codemirror_mode": {
    "name": "ipython",
    "version": 3
   },
   "file_extension": ".py",
   "mimetype": "text/x-python",
   "name": "python",
   "nbconvert_exporter": "python",
   "pygments_lexer": "ipython3",
   "version": "3.10.7"
  }
 },
 "nbformat": 4,
 "nbformat_minor": 5
}
