{
 "cells": [
  {
   "cell_type": "code",
   "execution_count": 3,
   "id": "5d8175db",
   "metadata": {},
   "outputs": [],
   "source": [
    "# import pandas library\n",
    "import pandas as pd\n",
    "import datetime"
   ]
  },
  {
   "cell_type": "code",
   "execution_count": 4,
   "id": "1b1eca4d",
   "metadata": {},
   "outputs": [],
   "source": [
    "# add first data file: inscripcion_conferencia.csv\n",
    "inscripcion_conferencia = pd.read_csv(\"../BasesFinales/inscripcion_conferencia.csv\", sep = ';', encoding='latin-1')"
   ]
  },
  {
   "cell_type": "code",
   "execution_count": 5,
   "id": "e76e7ac2",
   "metadata": {},
   "outputs": [
    {
     "data": {
      "text/plain": [
       "(2199, 6)"
      ]
     },
     "execution_count": 5,
     "metadata": {},
     "output_type": "execute_result"
    }
   ],
   "source": [
    "# (rows, columns)\n",
    "inscripcion_conferencia.shape"
   ]
  },
  {
   "cell_type": "code",
   "execution_count": 6,
   "id": "1cc31c3c",
   "metadata": {},
   "outputs": [
    {
     "name": "stdout",
     "output_type": "stream",
     "text": [
      "<class 'pandas.core.frame.DataFrame'>\n",
      "RangeIndex: 2199 entries, 0 to 2198\n",
      "Data columns (total 6 columns):\n",
      " #   Column           Non-Null Count  Dtype \n",
      "---  ------           --------------  ----- \n",
      " 0   IDEstudiante     2199 non-null   int64 \n",
      " 1   Nombre           2199 non-null   object\n",
      " 2   FechaNacimiento  2199 non-null   object\n",
      " 3   estudiante       2199 non-null   object\n",
      " 4   Genero_completo  2199 non-null   object\n",
      " 5   Ingresos         2199 non-null   int64 \n",
      "dtypes: int64(2), object(4)\n",
      "memory usage: 103.2+ KB\n"
     ]
    }
   ],
   "source": [
    "inscripcion_conferencia.info()"
   ]
  },
  {
   "cell_type": "code",
   "execution_count": 7,
   "id": "77d7f356",
   "metadata": {},
   "outputs": [
    {
     "data": {
      "text/html": [
       "<div>\n",
       "<style scoped>\n",
       "    .dataframe tbody tr th:only-of-type {\n",
       "        vertical-align: middle;\n",
       "    }\n",
       "\n",
       "    .dataframe tbody tr th {\n",
       "        vertical-align: top;\n",
       "    }\n",
       "\n",
       "    .dataframe thead th {\n",
       "        text-align: right;\n",
       "    }\n",
       "</style>\n",
       "<table border=\"1\" class=\"dataframe\">\n",
       "  <thead>\n",
       "    <tr style=\"text-align: right;\">\n",
       "      <th></th>\n",
       "      <th>IDEstudiante</th>\n",
       "      <th>Nombre</th>\n",
       "      <th>FechaNacimiento</th>\n",
       "      <th>estudiante</th>\n",
       "      <th>Genero_completo</th>\n",
       "      <th>Ingresos</th>\n",
       "    </tr>\n",
       "  </thead>\n",
       "  <tbody>\n",
       "    <tr>\n",
       "      <th>0</th>\n",
       "      <td>1</td>\n",
       "      <td>Marcos Morales Rubiano</td>\n",
       "      <td>25/08/2009</td>\n",
       "      <td>S</td>\n",
       "      <td>H</td>\n",
       "      <td>534847</td>\n",
       "    </tr>\n",
       "    <tr>\n",
       "      <th>1</th>\n",
       "      <td>2</td>\n",
       "      <td>Maria Rubiano Delgado</td>\n",
       "      <td>29/05/2011</td>\n",
       "      <td>N</td>\n",
       "      <td>M</td>\n",
       "      <td>1113050</td>\n",
       "    </tr>\n",
       "    <tr>\n",
       "      <th>2</th>\n",
       "      <td>3</td>\n",
       "      <td>Paula Contreras Delgado</td>\n",
       "      <td>8/06/1998</td>\n",
       "      <td>N</td>\n",
       "      <td>M</td>\n",
       "      <td>1249186</td>\n",
       "    </tr>\n",
       "    <tr>\n",
       "      <th>3</th>\n",
       "      <td>4</td>\n",
       "      <td>Carlos Medina Rubiano</td>\n",
       "      <td>11/07/1997</td>\n",
       "      <td>S</td>\n",
       "      <td>H</td>\n",
       "      <td>915811</td>\n",
       "    </tr>\n",
       "    <tr>\n",
       "      <th>4</th>\n",
       "      <td>5</td>\n",
       "      <td>Pablo Salazar Delgado</td>\n",
       "      <td>18/10/2005</td>\n",
       "      <td>S</td>\n",
       "      <td>H</td>\n",
       "      <td>1175867</td>\n",
       "    </tr>\n",
       "  </tbody>\n",
       "</table>\n",
       "</div>"
      ],
      "text/plain": [
       "   IDEstudiante                   Nombre FechaNacimiento estudiante  \\\n",
       "0             1   Marcos Morales Rubiano      25/08/2009          S   \n",
       "1             2    Maria Rubiano Delgado      29/05/2011          N   \n",
       "2             3  Paula Contreras Delgado       8/06/1998          N   \n",
       "3             4    Carlos Medina Rubiano      11/07/1997          S   \n",
       "4             5    Pablo Salazar Delgado      18/10/2005          S   \n",
       "\n",
       "  Genero_completo  Ingresos  \n",
       "0               H    534847  \n",
       "1               M   1113050  \n",
       "2               M   1249186  \n",
       "3               H    915811  \n",
       "4               H   1175867  "
      ]
     },
     "execution_count": 7,
     "metadata": {},
     "output_type": "execute_result"
    }
   ],
   "source": [
    "inscripcion_conferencia.head()"
   ]
  },
  {
   "cell_type": "code",
   "execution_count": 8,
   "id": "8ddd5247",
   "metadata": {},
   "outputs": [
    {
     "name": "stdout",
     "output_type": "stream",
     "text": [
      "<class 'pandas.core.frame.DataFrame'>\n",
      "RangeIndex: 2199 entries, 0 to 2198\n",
      "Data columns (total 6 columns):\n",
      " #   Column           Non-Null Count  Dtype         \n",
      "---  ------           --------------  -----         \n",
      " 0   IDEstudiante     2199 non-null   int64         \n",
      " 1   Nombre           2199 non-null   object        \n",
      " 2   FechaNacimiento  2199 non-null   datetime64[ns]\n",
      " 3   estudiante       2199 non-null   object        \n",
      " 4   Genero_completo  2199 non-null   object        \n",
      " 5   Ingresos         2199 non-null   int64         \n",
      "dtypes: datetime64[ns](1), int64(2), object(3)\n",
      "memory usage: 103.2+ KB\n"
     ]
    }
   ],
   "source": [
    "# format date type\n",
    "inscripcion_conferencia['FechaNacimiento'] = pd.to_datetime(inscripcion_conferencia['FechaNacimiento'], dayfirst = True)\n",
    "inscripcion_conferencia.info()"
   ]
  },
  {
   "cell_type": "code",
   "execution_count": 9,
   "id": "b47d2bfb",
   "metadata": {},
   "outputs": [
    {
     "data": {
      "text/plain": [
       "2199"
      ]
     },
     "execution_count": 9,
     "metadata": {},
     "output_type": "execute_result"
    }
   ],
   "source": [
    "# verify number of unique values\n",
    "inscripcion_conferencia['Nombre'].nunique(dropna=False)"
   ]
  },
  {
   "cell_type": "code",
   "execution_count": 10,
   "id": "f91387d8",
   "metadata": {},
   "outputs": [
    {
     "data": {
      "text/plain": [
       "array(['S', 'N'], dtype=object)"
      ]
     },
     "execution_count": 10,
     "metadata": {},
     "output_type": "execute_result"
    }
   ],
   "source": [
    "# verify unique values from column estudiante\n",
    "inscripcion_conferencia['estudiante'].unique()"
   ]
  },
  {
   "cell_type": "markdown",
   "id": "75226816",
   "metadata": {},
   "source": [
    "The dictionary doesn't mention this column. It is asume that 'S' means 'Sí'(Yes) and 'N' to 'No', with respect to the state of the students."
   ]
  },
  {
   "cell_type": "code",
   "execution_count": 11,
   "id": "9d04795b",
   "metadata": {},
   "outputs": [
    {
     "data": {
      "text/plain": [
       "array(['H', 'M'], dtype=object)"
      ]
     },
     "execution_count": 11,
     "metadata": {},
     "output_type": "execute_result"
    }
   ],
   "source": [
    "# verify unique values from column Genero_completo\n",
    "inscripcion_conferencia['Genero_completo'].unique()"
   ]
  },
  {
   "cell_type": "code",
   "execution_count": 12,
   "id": "fc4ee289",
   "metadata": {},
   "outputs": [
    {
     "data": {
      "text/plain": [
       "2196"
      ]
     },
     "execution_count": 12,
     "metadata": {},
     "output_type": "execute_result"
    }
   ],
   "source": [
    "# verify unique values from column Ingresos\n",
    "inscripcion_conferencia['Ingresos'].nunique(dropna=False)"
   ]
  },
  {
   "cell_type": "code",
   "execution_count": 13,
   "id": "efceb9b7",
   "metadata": {},
   "outputs": [
    {
     "data": {
      "text/plain": [
       "Ingresos\n",
       "1275706    2\n",
       "994619     2\n",
       "1340758    2\n",
       "534847     1\n",
       "910009     1\n",
       "Name: count, dtype: int64"
      ]
     },
     "execution_count": 13,
     "metadata": {},
     "output_type": "execute_result"
    }
   ],
   "source": [
    "# There are three values repeated. Check which ones, if there are numbers or what?\n",
    "inscripcion_conferencia['Ingresos'].value_counts(dropna=False, ascending=False).head()"
   ]
  },
  {
   "cell_type": "markdown",
   "id": "e8b151ec",
   "metadata": {},
   "source": [
    "The file `inscripcion_conferencia.csv` doesn't present null values. Next, it will be check if there are any weird values."
   ]
  },
  {
   "cell_type": "code",
   "execution_count": 16,
   "id": "425fe6db",
   "metadata": {},
   "outputs": [
    {
     "data": {
      "text/html": [
       "<div>\n",
       "<style scoped>\n",
       "    .dataframe tbody tr th:only-of-type {\n",
       "        vertical-align: middle;\n",
       "    }\n",
       "\n",
       "    .dataframe tbody tr th {\n",
       "        vertical-align: top;\n",
       "    }\n",
       "\n",
       "    .dataframe thead th {\n",
       "        text-align: right;\n",
       "    }\n",
       "</style>\n",
       "<table border=\"1\" class=\"dataframe\">\n",
       "  <thead>\n",
       "    <tr style=\"text-align: right;\">\n",
       "      <th></th>\n",
       "      <th>IDEstudiante</th>\n",
       "      <th>Nombre</th>\n",
       "      <th>FechaNacimiento</th>\n",
       "      <th>estudiante</th>\n",
       "      <th>Genero_completo</th>\n",
       "      <th>Ingresos</th>\n",
       "      <th>age</th>\n",
       "    </tr>\n",
       "  </thead>\n",
       "  <tbody>\n",
       "    <tr>\n",
       "      <th>0</th>\n",
       "      <td>1</td>\n",
       "      <td>Marcos Morales Rubiano</td>\n",
       "      <td>2009-08-25</td>\n",
       "      <td>S</td>\n",
       "      <td>H</td>\n",
       "      <td>534847</td>\n",
       "      <td>15</td>\n",
       "    </tr>\n",
       "    <tr>\n",
       "      <th>1</th>\n",
       "      <td>2</td>\n",
       "      <td>Maria Rubiano Delgado</td>\n",
       "      <td>2011-05-29</td>\n",
       "      <td>N</td>\n",
       "      <td>M</td>\n",
       "      <td>1113050</td>\n",
       "      <td>13</td>\n",
       "    </tr>\n",
       "    <tr>\n",
       "      <th>2</th>\n",
       "      <td>3</td>\n",
       "      <td>Paula Contreras Delgado</td>\n",
       "      <td>1998-06-08</td>\n",
       "      <td>N</td>\n",
       "      <td>M</td>\n",
       "      <td>1249186</td>\n",
       "      <td>26</td>\n",
       "    </tr>\n",
       "    <tr>\n",
       "      <th>3</th>\n",
       "      <td>4</td>\n",
       "      <td>Carlos Medina Rubiano</td>\n",
       "      <td>1997-07-11</td>\n",
       "      <td>S</td>\n",
       "      <td>H</td>\n",
       "      <td>915811</td>\n",
       "      <td>27</td>\n",
       "    </tr>\n",
       "    <tr>\n",
       "      <th>4</th>\n",
       "      <td>5</td>\n",
       "      <td>Pablo Salazar Delgado</td>\n",
       "      <td>2005-10-18</td>\n",
       "      <td>S</td>\n",
       "      <td>H</td>\n",
       "      <td>1175867</td>\n",
       "      <td>19</td>\n",
       "    </tr>\n",
       "  </tbody>\n",
       "</table>\n",
       "</div>"
      ],
      "text/plain": [
       "   IDEstudiante                   Nombre FechaNacimiento estudiante  \\\n",
       "0             1   Marcos Morales Rubiano      2009-08-25          S   \n",
       "1             2    Maria Rubiano Delgado      2011-05-29          N   \n",
       "2             3  Paula Contreras Delgado      1998-06-08          N   \n",
       "3             4    Carlos Medina Rubiano      1997-07-11          S   \n",
       "4             5    Pablo Salazar Delgado      2005-10-18          S   \n",
       "\n",
       "  Genero_completo  Ingresos  age  \n",
       "0               H    534847   15  \n",
       "1               M   1113050   13  \n",
       "2               M   1249186   26  \n",
       "3               H    915811   27  \n",
       "4               H   1175867   19  "
      ]
     },
     "execution_count": 16,
     "metadata": {},
     "output_type": "execute_result"
    }
   ],
   "source": [
    "# calculate age of the students to current year 2024.\n",
    "current_year = 2024\n",
    "inscripcion_conferencia['age'] = current_year - inscripcion_conferencia['FechaNacimiento'].dt.year\n",
    "inscripcion_conferencia.head()"
   ]
  },
  {
   "cell_type": "markdown",
   "id": "a96d70e5",
   "metadata": {},
   "source": [
    "Statistics of numeric data"
   ]
  },
  {
   "cell_type": "code",
   "execution_count": 18,
   "id": "3de812d5",
   "metadata": {},
   "outputs": [
    {
     "data": {
      "text/html": [
       "<div>\n",
       "<style scoped>\n",
       "    .dataframe tbody tr th:only-of-type {\n",
       "        vertical-align: middle;\n",
       "    }\n",
       "\n",
       "    .dataframe tbody tr th {\n",
       "        vertical-align: top;\n",
       "    }\n",
       "\n",
       "    .dataframe thead th {\n",
       "        text-align: right;\n",
       "    }\n",
       "</style>\n",
       "<table border=\"1\" class=\"dataframe\">\n",
       "  <thead>\n",
       "    <tr style=\"text-align: right;\">\n",
       "      <th></th>\n",
       "      <th>IDEstudiante</th>\n",
       "      <th>FechaNacimiento</th>\n",
       "      <th>Ingresos</th>\n",
       "      <th>age</th>\n",
       "    </tr>\n",
       "  </thead>\n",
       "  <tbody>\n",
       "    <tr>\n",
       "      <th>count</th>\n",
       "      <td>2199.00</td>\n",
       "      <td>2199</td>\n",
       "      <td>2199.00</td>\n",
       "      <td>2199.00</td>\n",
       "    </tr>\n",
       "    <tr>\n",
       "      <th>mean</th>\n",
       "      <td>1100.00</td>\n",
       "      <td>2003-10-31 03:03:21.364256512</td>\n",
       "      <td>1003138.40</td>\n",
       "      <td>20.67</td>\n",
       "    </tr>\n",
       "    <tr>\n",
       "      <th>min</th>\n",
       "      <td>1.00</td>\n",
       "      <td>1993-10-12 00:00:00</td>\n",
       "      <td>502221.00</td>\n",
       "      <td>11.00</td>\n",
       "    </tr>\n",
       "    <tr>\n",
       "      <th>25%</th>\n",
       "      <td>550.50</td>\n",
       "      <td>1998-12-02 00:00:00</td>\n",
       "      <td>764890.00</td>\n",
       "      <td>16.00</td>\n",
       "    </tr>\n",
       "    <tr>\n",
       "      <th>50%</th>\n",
       "      <td>1100.00</td>\n",
       "      <td>2003-11-25 00:00:00</td>\n",
       "      <td>1039857.00</td>\n",
       "      <td>21.00</td>\n",
       "    </tr>\n",
       "    <tr>\n",
       "      <th>75%</th>\n",
       "      <td>1649.50</td>\n",
       "      <td>2008-09-24 00:00:00</td>\n",
       "      <td>1201420.50</td>\n",
       "      <td>26.00</td>\n",
       "    </tr>\n",
       "    <tr>\n",
       "      <th>max</th>\n",
       "      <td>2199.00</td>\n",
       "      <td>2013-09-27 00:00:00</td>\n",
       "      <td>1499407.00</td>\n",
       "      <td>31.00</td>\n",
       "    </tr>\n",
       "    <tr>\n",
       "      <th>std</th>\n",
       "      <td>634.94</td>\n",
       "      <td>NaN</td>\n",
       "      <td>277300.06</td>\n",
       "      <td>5.71</td>\n",
       "    </tr>\n",
       "  </tbody>\n",
       "</table>\n",
       "</div>"
      ],
      "text/plain": [
       "       IDEstudiante                FechaNacimiento   Ingresos     age\n",
       "count       2199.00                           2199    2199.00 2199.00\n",
       "mean        1100.00  2003-10-31 03:03:21.364256512 1003138.40   20.67\n",
       "min            1.00            1993-10-12 00:00:00  502221.00   11.00\n",
       "25%          550.50            1998-12-02 00:00:00  764890.00   16.00\n",
       "50%         1100.00            2003-11-25 00:00:00 1039857.00   21.00\n",
       "75%         1649.50            2008-09-24 00:00:00 1201420.50   26.00\n",
       "max         2199.00            2013-09-27 00:00:00 1499407.00   31.00\n",
       "std          634.94                            NaN  277300.06    5.71"
      ]
     },
     "execution_count": 18,
     "metadata": {},
     "output_type": "execute_result"
    }
   ],
   "source": [
    "# eliminar posiciones decimales\n",
    "pd.set_option('display.precision', 2)\n",
    "pd.set_option('display.float_format', lambda x: '%.2f' % x)\n",
    "\n",
    "inscripcion_conferencia.describe()"
   ]
  },
  {
   "cell_type": "markdown",
   "id": "f30d53be",
   "metadata": {},
   "source": [
    "No atypical value in the numeric columns seams to be."
   ]
  },
  {
   "cell_type": "code",
   "execution_count": 21,
   "id": "d0355935",
   "metadata": {},
   "outputs": [],
   "source": [
    "# export transform data\n",
    "inscripcion_conferencia.to_csv('..\\BasesFinales\\inscripcion_conferencia_transform.csv')"
   ]
  },
  {
   "cell_type": "markdown",
   "id": "12fe4ced",
   "metadata": {},
   "source": [
    "## Second file: `estudiantes.csv`"
   ]
  },
  {
   "cell_type": "code",
   "execution_count": 23,
   "id": "13274e85",
   "metadata": {},
   "outputs": [
    {
     "name": "stdout",
     "output_type": "stream",
     "text": [
      "<class 'pandas.core.frame.DataFrame'>\n",
      "RangeIndex: 976 entries, 0 to 975\n",
      "Data columns (total 3 columns):\n",
      " #   Column           Non-Null Count  Dtype \n",
      "---  ------           --------------  ----- \n",
      " 0   IDEstudiante     976 non-null    int64 \n",
      " 1   Nombre           976 non-null    object\n",
      " 2   FechaNacimiento  976 non-null    object\n",
      "dtypes: int64(1), object(2)\n",
      "memory usage: 23.0+ KB\n"
     ]
    }
   ],
   "source": [
    "# add file estudiantes.csv\n",
    "estudiantes = pd.read_csv('../BasesFinales/estudiantes.csv', sep=';', encoding='latin-1')\n",
    "estudiantes.info()"
   ]
  },
  {
   "cell_type": "code",
   "execution_count": 24,
   "id": "ec5d37b8",
   "metadata": {},
   "outputs": [
    {
     "data": {
      "text/html": [
       "<div>\n",
       "<style scoped>\n",
       "    .dataframe tbody tr th:only-of-type {\n",
       "        vertical-align: middle;\n",
       "    }\n",
       "\n",
       "    .dataframe tbody tr th {\n",
       "        vertical-align: top;\n",
       "    }\n",
       "\n",
       "    .dataframe thead th {\n",
       "        text-align: right;\n",
       "    }\n",
       "</style>\n",
       "<table border=\"1\" class=\"dataframe\">\n",
       "  <thead>\n",
       "    <tr style=\"text-align: right;\">\n",
       "      <th></th>\n",
       "      <th>IDEstudiante</th>\n",
       "      <th>Nombre</th>\n",
       "      <th>FechaNacimiento</th>\n",
       "    </tr>\n",
       "  </thead>\n",
       "  <tbody>\n",
       "    <tr>\n",
       "      <th>0</th>\n",
       "      <td>1</td>\n",
       "      <td>Marcos Morales Rubiano</td>\n",
       "      <td>25/08/2009</td>\n",
       "    </tr>\n",
       "    <tr>\n",
       "      <th>1</th>\n",
       "      <td>2</td>\n",
       "      <td>Maria Rubiano Delgado</td>\n",
       "      <td>29/05/2011</td>\n",
       "    </tr>\n",
       "    <tr>\n",
       "      <th>2</th>\n",
       "      <td>5</td>\n",
       "      <td>Pablo Salazar Delgado</td>\n",
       "      <td>18/10/2005</td>\n",
       "    </tr>\n",
       "    <tr>\n",
       "      <th>3</th>\n",
       "      <td>6</td>\n",
       "      <td>Marcos Jiménez Marín</td>\n",
       "      <td>16/12/2000</td>\n",
       "    </tr>\n",
       "    <tr>\n",
       "      <th>4</th>\n",
       "      <td>7</td>\n",
       "      <td>Luis Reyes Ríos</td>\n",
       "      <td>28/05/2011</td>\n",
       "    </tr>\n",
       "  </tbody>\n",
       "</table>\n",
       "</div>"
      ],
      "text/plain": [
       "   IDEstudiante                  Nombre FechaNacimiento\n",
       "0             1  Marcos Morales Rubiano      25/08/2009\n",
       "1             2   Maria Rubiano Delgado      29/05/2011\n",
       "2             5   Pablo Salazar Delgado      18/10/2005\n",
       "3             6    Marcos Jiménez Marín      16/12/2000\n",
       "4             7         Luis Reyes Ríos      28/05/2011"
      ]
     },
     "execution_count": 24,
     "metadata": {},
     "output_type": "execute_result"
    }
   ],
   "source": [
    "estudiantes.head()"
   ]
  },
  {
   "cell_type": "code",
   "execution_count": 25,
   "id": "88144eed",
   "metadata": {},
   "outputs": [
    {
     "data": {
      "text/plain": [
       "976"
      ]
     },
     "execution_count": 25,
     "metadata": {},
     "output_type": "execute_result"
    }
   ],
   "source": [
    "# check unique names and count\n",
    "estudiantes['Nombre'].nunique(dropna=False)"
   ]
  },
  {
   "cell_type": "code",
   "execution_count": 26,
   "id": "5d729949",
   "metadata": {},
   "outputs": [
    {
     "name": "stdout",
     "output_type": "stream",
     "text": [
      "<class 'pandas.core.frame.DataFrame'>\n",
      "RangeIndex: 976 entries, 0 to 975\n",
      "Data columns (total 3 columns):\n",
      " #   Column           Non-Null Count  Dtype         \n",
      "---  ------           --------------  -----         \n",
      " 0   IDEstudiante     976 non-null    int64         \n",
      " 1   Nombre           976 non-null    object        \n",
      " 2   FechaNacimiento  976 non-null    datetime64[ns]\n",
      "dtypes: datetime64[ns](1), int64(1), object(1)\n",
      "memory usage: 23.0+ KB\n"
     ]
    }
   ],
   "source": [
    "# convert date to datetime type\n",
    "estudiantes['FechaNacimiento'] = pd.to_datetime(estudiantes['FechaNacimiento'], dayfirst=True)\n",
    "estudiantes.info()"
   ]
  },
  {
   "cell_type": "code",
   "execution_count": 27,
   "id": "5c1745fc",
   "metadata": {},
   "outputs": [
    {
     "data": {
      "text/html": [
       "<div>\n",
       "<style scoped>\n",
       "    .dataframe tbody tr th:only-of-type {\n",
       "        vertical-align: middle;\n",
       "    }\n",
       "\n",
       "    .dataframe tbody tr th {\n",
       "        vertical-align: top;\n",
       "    }\n",
       "\n",
       "    .dataframe thead th {\n",
       "        text-align: right;\n",
       "    }\n",
       "</style>\n",
       "<table border=\"1\" class=\"dataframe\">\n",
       "  <thead>\n",
       "    <tr style=\"text-align: right;\">\n",
       "      <th></th>\n",
       "      <th>IDEstudiante</th>\n",
       "      <th>Nombre</th>\n",
       "      <th>FechaNacimiento</th>\n",
       "      <th>age</th>\n",
       "    </tr>\n",
       "  </thead>\n",
       "  <tbody>\n",
       "    <tr>\n",
       "      <th>0</th>\n",
       "      <td>1</td>\n",
       "      <td>Marcos Morales Rubiano</td>\n",
       "      <td>2009-08-25</td>\n",
       "      <td>15</td>\n",
       "    </tr>\n",
       "    <tr>\n",
       "      <th>1</th>\n",
       "      <td>2</td>\n",
       "      <td>Maria Rubiano Delgado</td>\n",
       "      <td>2011-05-29</td>\n",
       "      <td>13</td>\n",
       "    </tr>\n",
       "    <tr>\n",
       "      <th>2</th>\n",
       "      <td>5</td>\n",
       "      <td>Pablo Salazar Delgado</td>\n",
       "      <td>2005-10-18</td>\n",
       "      <td>19</td>\n",
       "    </tr>\n",
       "    <tr>\n",
       "      <th>3</th>\n",
       "      <td>6</td>\n",
       "      <td>Marcos Jiménez Marín</td>\n",
       "      <td>2000-12-16</td>\n",
       "      <td>24</td>\n",
       "    </tr>\n",
       "    <tr>\n",
       "      <th>4</th>\n",
       "      <td>7</td>\n",
       "      <td>Luis Reyes Ríos</td>\n",
       "      <td>2011-05-28</td>\n",
       "      <td>13</td>\n",
       "    </tr>\n",
       "  </tbody>\n",
       "</table>\n",
       "</div>"
      ],
      "text/plain": [
       "   IDEstudiante                  Nombre FechaNacimiento  age\n",
       "0             1  Marcos Morales Rubiano      2009-08-25   15\n",
       "1             2   Maria Rubiano Delgado      2011-05-29   13\n",
       "2             5   Pablo Salazar Delgado      2005-10-18   19\n",
       "3             6    Marcos Jiménez Marín      2000-12-16   24\n",
       "4             7         Luis Reyes Ríos      2011-05-28   13"
      ]
     },
     "execution_count": 27,
     "metadata": {},
     "output_type": "execute_result"
    }
   ],
   "source": [
    "# add age column\n",
    "estudiantes['age'] = current_year - estudiantes['FechaNacimiento'].dt.year\n",
    "estudiantes.head()"
   ]
  },
  {
   "cell_type": "code",
   "execution_count": 28,
   "id": "6335eaf3",
   "metadata": {},
   "outputs": [
    {
     "data": {
      "text/html": [
       "<div>\n",
       "<style scoped>\n",
       "    .dataframe tbody tr th:only-of-type {\n",
       "        vertical-align: middle;\n",
       "    }\n",
       "\n",
       "    .dataframe tbody tr th {\n",
       "        vertical-align: top;\n",
       "    }\n",
       "\n",
       "    .dataframe thead th {\n",
       "        text-align: right;\n",
       "    }\n",
       "</style>\n",
       "<table border=\"1\" class=\"dataframe\">\n",
       "  <thead>\n",
       "    <tr style=\"text-align: right;\">\n",
       "      <th></th>\n",
       "      <th>IDEstudiante</th>\n",
       "      <th>FechaNacimiento</th>\n",
       "      <th>age</th>\n",
       "    </tr>\n",
       "  </thead>\n",
       "  <tbody>\n",
       "    <tr>\n",
       "      <th>count</th>\n",
       "      <td>976.00</td>\n",
       "      <td>976</td>\n",
       "      <td>976.00</td>\n",
       "    </tr>\n",
       "    <tr>\n",
       "      <th>mean</th>\n",
       "      <td>979.85</td>\n",
       "      <td>2004-03-06 16:46:13.770491776</td>\n",
       "      <td>20.32</td>\n",
       "    </tr>\n",
       "    <tr>\n",
       "      <th>min</th>\n",
       "      <td>1.00</td>\n",
       "      <td>1993-10-12 00:00:00</td>\n",
       "      <td>11.00</td>\n",
       "    </tr>\n",
       "    <tr>\n",
       "      <th>25%</th>\n",
       "      <td>504.75</td>\n",
       "      <td>1999-04-06 00:00:00</td>\n",
       "      <td>15.00</td>\n",
       "    </tr>\n",
       "    <tr>\n",
       "      <th>50%</th>\n",
       "      <td>949.00</td>\n",
       "      <td>2004-06-22 12:00:00</td>\n",
       "      <td>20.00</td>\n",
       "    </tr>\n",
       "    <tr>\n",
       "      <th>75%</th>\n",
       "      <td>1471.25</td>\n",
       "      <td>2009-04-04 06:00:00</td>\n",
       "      <td>25.00</td>\n",
       "    </tr>\n",
       "    <tr>\n",
       "      <th>max</th>\n",
       "      <td>1999.00</td>\n",
       "      <td>2013-09-22 00:00:00</td>\n",
       "      <td>31.00</td>\n",
       "    </tr>\n",
       "    <tr>\n",
       "      <th>std</th>\n",
       "      <td>575.27</td>\n",
       "      <td>NaN</td>\n",
       "      <td>5.78</td>\n",
       "    </tr>\n",
       "  </tbody>\n",
       "</table>\n",
       "</div>"
      ],
      "text/plain": [
       "       IDEstudiante                FechaNacimiento    age\n",
       "count        976.00                            976 976.00\n",
       "mean         979.85  2004-03-06 16:46:13.770491776  20.32\n",
       "min            1.00            1993-10-12 00:00:00  11.00\n",
       "25%          504.75            1999-04-06 00:00:00  15.00\n",
       "50%          949.00            2004-06-22 12:00:00  20.00\n",
       "75%         1471.25            2009-04-04 06:00:00  25.00\n",
       "max         1999.00            2013-09-22 00:00:00  31.00\n",
       "std          575.27                            NaN   5.78"
      ]
     },
     "execution_count": 28,
     "metadata": {},
     "output_type": "execute_result"
    }
   ],
   "source": [
    "estudiantes.describe()"
   ]
  },
  {
   "cell_type": "markdown",
   "id": "bc5afff9",
   "metadata": {},
   "source": [
    "The data doesn't contain null values nor atypical. The column age was added."
   ]
  },
  {
   "cell_type": "code",
   "execution_count": 29,
   "id": "debf5779",
   "metadata": {},
   "outputs": [],
   "source": [
    "# export transformed file\n",
    "estudiantes.to_csv('../BasesFinales/estudiantes_transform.csv')"
   ]
  },
  {
   "cell_type": "markdown",
   "id": "831d180d",
   "metadata": {},
   "source": [
    "## Third file: `donantes_inscritos.csv`"
   ]
  },
  {
   "cell_type": "code",
   "execution_count": null,
   "id": "9a86f8a4",
   "metadata": {},
   "outputs": [],
   "source": [
    "# add"
   ]
  }
 ],
 "metadata": {
  "kernelspec": {
   "display_name": "Python 3 (ipykernel)",
   "language": "python",
   "name": "python3"
  },
  "language_info": {
   "codemirror_mode": {
    "name": "ipython",
    "version": 3
   },
   "file_extension": ".py",
   "mimetype": "text/x-python",
   "name": "python",
   "nbconvert_exporter": "python",
   "pygments_lexer": "ipython3",
   "version": "3.10.7"
  }
 },
 "nbformat": 4,
 "nbformat_minor": 5
}
